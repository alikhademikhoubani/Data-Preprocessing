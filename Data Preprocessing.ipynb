{
 "cells": [
  {
   "cell_type": "code",
   "execution_count": 315,
   "id": "8cc559f6-efdc-48a7-a706-d5286424987a",
   "metadata": {},
   "outputs": [],
   "source": [
    "import numpy as np\n",
    "import matplotlib.pyplot as plt\n",
    "import pandas as pd\n",
    "from sklearn.impute import SimpleImputer\n",
    "from sklearn.compose import ColumnTransformer\n",
    "from sklearn.preprocessing import OneHotEncoder\n",
    "from sklearn.preprocessing import LabelEncoder\n",
    "from sklearn.model_selection import train_test_split\n",
    "from sklearn.preprocessing import StandardScaler"
   ]
  },
  {
   "cell_type": "code",
   "execution_count": 316,
   "id": "f44dd716-587f-4903-aa5d-f727acaeb60d",
   "metadata": {},
   "outputs": [
    {
     "data": {
      "text/html": [
       "<div>\n",
       "<style scoped>\n",
       "    .dataframe tbody tr th:only-of-type {\n",
       "        vertical-align: middle;\n",
       "    }\n",
       "\n",
       "    .dataframe tbody tr th {\n",
       "        vertical-align: top;\n",
       "    }\n",
       "\n",
       "    .dataframe thead th {\n",
       "        text-align: right;\n",
       "    }\n",
       "</style>\n",
       "<table border=\"1\" class=\"dataframe\">\n",
       "  <thead>\n",
       "    <tr style=\"text-align: right;\">\n",
       "      <th></th>\n",
       "      <th>Student ID</th>\n",
       "      <th>Age</th>\n",
       "      <th>Gender</th>\n",
       "      <th>Height</th>\n",
       "      <th>Weight</th>\n",
       "      <th>Blood Type</th>\n",
       "      <th>BMI</th>\n",
       "      <th>Temperature</th>\n",
       "      <th>Heart Rate</th>\n",
       "      <th>Blood Pressure</th>\n",
       "      <th>Cholesterol</th>\n",
       "      <th>Diabetes</th>\n",
       "      <th>Smoking</th>\n",
       "    </tr>\n",
       "  </thead>\n",
       "  <tbody>\n",
       "    <tr>\n",
       "      <th>0</th>\n",
       "      <td>1.0</td>\n",
       "      <td>18.0</td>\n",
       "      <td>Female</td>\n",
       "      <td>161.777924</td>\n",
       "      <td>72.354947</td>\n",
       "      <td>O</td>\n",
       "      <td>27.645835</td>\n",
       "      <td>NaN</td>\n",
       "      <td>95.0</td>\n",
       "      <td>109.0</td>\n",
       "      <td>203.0</td>\n",
       "      <td>No</td>\n",
       "      <td>NaN</td>\n",
       "    </tr>\n",
       "    <tr>\n",
       "      <th>1</th>\n",
       "      <td>2.0</td>\n",
       "      <td>NaN</td>\n",
       "      <td>Male</td>\n",
       "      <td>152.069157</td>\n",
       "      <td>47.630941</td>\n",
       "      <td>B</td>\n",
       "      <td>NaN</td>\n",
       "      <td>98.714977</td>\n",
       "      <td>93.0</td>\n",
       "      <td>104.0</td>\n",
       "      <td>163.0</td>\n",
       "      <td>No</td>\n",
       "      <td>No</td>\n",
       "    </tr>\n",
       "    <tr>\n",
       "      <th>2</th>\n",
       "      <td>3.0</td>\n",
       "      <td>32.0</td>\n",
       "      <td>Female</td>\n",
       "      <td>182.537664</td>\n",
       "      <td>55.741083</td>\n",
       "      <td>A</td>\n",
       "      <td>16.729017</td>\n",
       "      <td>98.260293</td>\n",
       "      <td>76.0</td>\n",
       "      <td>130.0</td>\n",
       "      <td>216.0</td>\n",
       "      <td>Yes</td>\n",
       "      <td>No</td>\n",
       "    </tr>\n",
       "    <tr>\n",
       "      <th>3</th>\n",
       "      <td>NaN</td>\n",
       "      <td>30.0</td>\n",
       "      <td>Male</td>\n",
       "      <td>182.112867</td>\n",
       "      <td>63.332207</td>\n",
       "      <td>B</td>\n",
       "      <td>19.096042</td>\n",
       "      <td>98.839605</td>\n",
       "      <td>99.0</td>\n",
       "      <td>112.0</td>\n",
       "      <td>141.0</td>\n",
       "      <td>No</td>\n",
       "      <td>Yes</td>\n",
       "    </tr>\n",
       "    <tr>\n",
       "      <th>4</th>\n",
       "      <td>5.0</td>\n",
       "      <td>23.0</td>\n",
       "      <td>Female</td>\n",
       "      <td>NaN</td>\n",
       "      <td>46.234173</td>\n",
       "      <td>O</td>\n",
       "      <td>NaN</td>\n",
       "      <td>98.480008</td>\n",
       "      <td>95.0</td>\n",
       "      <td>NaN</td>\n",
       "      <td>231.0</td>\n",
       "      <td>No</td>\n",
       "      <td>No</td>\n",
       "    </tr>\n",
       "  </tbody>\n",
       "</table>\n",
       "</div>"
      ],
      "text/plain": [
       "   Student ID   Age  Gender      Height     Weight Blood Type        BMI  \\\n",
       "0         1.0  18.0  Female  161.777924  72.354947          O  27.645835   \n",
       "1         2.0   NaN    Male  152.069157  47.630941          B        NaN   \n",
       "2         3.0  32.0  Female  182.537664  55.741083          A  16.729017   \n",
       "3         NaN  30.0    Male  182.112867  63.332207          B  19.096042   \n",
       "4         5.0  23.0  Female         NaN  46.234173          O        NaN   \n",
       "\n",
       "   Temperature  Heart Rate  Blood Pressure  Cholesterol Diabetes Smoking  \n",
       "0          NaN        95.0           109.0        203.0       No     NaN  \n",
       "1    98.714977        93.0           104.0        163.0       No      No  \n",
       "2    98.260293        76.0           130.0        216.0      Yes      No  \n",
       "3    98.839605        99.0           112.0        141.0       No     Yes  \n",
       "4    98.480008        95.0             NaN        231.0       No      No  "
      ]
     },
     "execution_count": 316,
     "metadata": {},
     "output_type": "execute_result"
    }
   ],
   "source": [
    "dataset = pd.read_csv('medical_students_dataset.csv')\n",
    "dataset.head()"
   ]
  },
  {
   "cell_type": "code",
   "execution_count": 317,
   "id": "c5cc59ef-e784-4df2-8187-8a07a6889d8c",
   "metadata": {},
   "outputs": [
    {
     "data": {
      "text/plain": [
       "(200000, 13)"
      ]
     },
     "execution_count": 317,
     "metadata": {},
     "output_type": "execute_result"
    }
   ],
   "source": [
    "dataset.shape"
   ]
  },
  {
   "cell_type": "code",
   "execution_count": 318,
   "id": "6f5903d2-9275-4985-893c-c3a0ff27cfc0",
   "metadata": {},
   "outputs": [
    {
     "name": "stdout",
     "output_type": "stream",
     "text": [
      "<class 'pandas.core.frame.DataFrame'>\n",
      "RangeIndex: 200000 entries, 0 to 199999\n",
      "Data columns (total 13 columns):\n",
      " #   Column          Non-Null Count   Dtype  \n",
      "---  ------          --------------   -----  \n",
      " 0   Student ID      180000 non-null  float64\n",
      " 1   Age             180000 non-null  float64\n",
      " 2   Gender          180000 non-null  object \n",
      " 3   Height          180000 non-null  float64\n",
      " 4   Weight          180000 non-null  float64\n",
      " 5   Blood Type      180000 non-null  object \n",
      " 6   BMI             180000 non-null  float64\n",
      " 7   Temperature     180000 non-null  float64\n",
      " 8   Heart Rate      180000 non-null  float64\n",
      " 9   Blood Pressure  180000 non-null  float64\n",
      " 10  Cholesterol     180000 non-null  float64\n",
      " 11  Diabetes        180000 non-null  object \n",
      " 12  Smoking         180000 non-null  object \n",
      "dtypes: float64(9), object(4)\n",
      "memory usage: 19.8+ MB\n"
     ]
    }
   ],
   "source": [
    "dataset.info()"
   ]
  },
  {
   "cell_type": "code",
   "execution_count": 319,
   "id": "5e064709-d89b-43cd-9928-efc982ce3368",
   "metadata": {},
   "outputs": [
    {
     "data": {
      "text/plain": [
       "Student ID        20000\n",
       "Age               20000\n",
       "Gender            20000\n",
       "Height            20000\n",
       "Weight            20000\n",
       "Blood Type        20000\n",
       "BMI               20000\n",
       "Temperature       20000\n",
       "Heart Rate        20000\n",
       "Blood Pressure    20000\n",
       "Cholesterol       20000\n",
       "Diabetes          20000\n",
       "Smoking           20000\n",
       "dtype: int64"
      ]
     },
     "execution_count": 319,
     "metadata": {},
     "output_type": "execute_result"
    }
   ],
   "source": [
    "dataset.apply(pd.isnull).sum()"
   ]
  },
  {
   "cell_type": "code",
   "execution_count": 320,
   "id": "4e0962d2-7787-4ca4-b9f1-74d7b32b0405",
   "metadata": {},
   "outputs": [],
   "source": [
    "imputer = SimpleImputer(missing_values = np.nan, strategy = 'median')"
   ]
  },
  {
   "cell_type": "code",
   "execution_count": 321,
   "id": "3f1f51f2-64f0-48c8-8473-a06af7c7450b",
   "metadata": {},
   "outputs": [],
   "source": [
    "dataset.drop(columns = ['Student ID'], axis = 1, inplace = True)"
   ]
  },
  {
   "cell_type": "code",
   "execution_count": 322,
   "id": "de3e17c2-06a2-4657-9918-5f2bda0e199b",
   "metadata": {},
   "outputs": [],
   "source": [
    "numerical_columns, categorical_columns = [], []\n",
    "for column in dataset.columns:\n",
    "    if dataset[column].dtype == 'object':\n",
    "        categorical_columns.append(column)\n",
    "    else:\n",
    "        numerical_columns.append(column)"
   ]
  },
  {
   "cell_type": "code",
   "execution_count": 323,
   "id": "717e3d4d-4001-4eb4-bb3d-c09b0cdac72b",
   "metadata": {},
   "outputs": [
    {
     "data": {
      "text/html": [
       "<div>\n",
       "<style scoped>\n",
       "    .dataframe tbody tr th:only-of-type {\n",
       "        vertical-align: middle;\n",
       "    }\n",
       "\n",
       "    .dataframe tbody tr th {\n",
       "        vertical-align: top;\n",
       "    }\n",
       "\n",
       "    .dataframe thead th {\n",
       "        text-align: right;\n",
       "    }\n",
       "</style>\n",
       "<table border=\"1\" class=\"dataframe\">\n",
       "  <thead>\n",
       "    <tr style=\"text-align: right;\">\n",
       "      <th></th>\n",
       "      <th>Age</th>\n",
       "      <th>Height</th>\n",
       "      <th>Weight</th>\n",
       "      <th>BMI</th>\n",
       "      <th>Temperature</th>\n",
       "      <th>Heart Rate</th>\n",
       "      <th>Blood Pressure</th>\n",
       "      <th>Cholesterol</th>\n",
       "    </tr>\n",
       "  </thead>\n",
       "  <tbody>\n",
       "    <tr>\n",
       "      <th>count</th>\n",
       "      <td>180000.000000</td>\n",
       "      <td>180000.000000</td>\n",
       "      <td>180000.000000</td>\n",
       "      <td>180000.000000</td>\n",
       "      <td>180000.000000</td>\n",
       "      <td>180000.000000</td>\n",
       "      <td>180000.000000</td>\n",
       "      <td>180000.000000</td>\n",
       "    </tr>\n",
       "    <tr>\n",
       "      <th>mean</th>\n",
       "      <td>26.021561</td>\n",
       "      <td>174.947103</td>\n",
       "      <td>69.971585</td>\n",
       "      <td>23.338869</td>\n",
       "      <td>98.600948</td>\n",
       "      <td>79.503767</td>\n",
       "      <td>114.558033</td>\n",
       "      <td>184.486361</td>\n",
       "    </tr>\n",
       "    <tr>\n",
       "      <th>std</th>\n",
       "      <td>4.890528</td>\n",
       "      <td>14.447560</td>\n",
       "      <td>17.322574</td>\n",
       "      <td>7.033554</td>\n",
       "      <td>0.500530</td>\n",
       "      <td>11.540755</td>\n",
       "      <td>14.403353</td>\n",
       "      <td>37.559678</td>\n",
       "    </tr>\n",
       "    <tr>\n",
       "      <th>min</th>\n",
       "      <td>18.000000</td>\n",
       "      <td>150.000041</td>\n",
       "      <td>40.000578</td>\n",
       "      <td>10.074837</td>\n",
       "      <td>96.397835</td>\n",
       "      <td>60.000000</td>\n",
       "      <td>90.000000</td>\n",
       "      <td>120.000000</td>\n",
       "    </tr>\n",
       "    <tr>\n",
       "      <th>25%</th>\n",
       "      <td>22.000000</td>\n",
       "      <td>162.476110</td>\n",
       "      <td>54.969838</td>\n",
       "      <td>17.858396</td>\n",
       "      <td>98.264750</td>\n",
       "      <td>70.000000</td>\n",
       "      <td>102.000000</td>\n",
       "      <td>152.000000</td>\n",
       "    </tr>\n",
       "    <tr>\n",
       "      <th>50%</th>\n",
       "      <td>26.000000</td>\n",
       "      <td>174.899914</td>\n",
       "      <td>69.979384</td>\n",
       "      <td>22.671401</td>\n",
       "      <td>98.599654</td>\n",
       "      <td>80.000000</td>\n",
       "      <td>115.000000</td>\n",
       "      <td>184.000000</td>\n",
       "    </tr>\n",
       "    <tr>\n",
       "      <th>75%</th>\n",
       "      <td>30.000000</td>\n",
       "      <td>187.464417</td>\n",
       "      <td>84.980097</td>\n",
       "      <td>27.997487</td>\n",
       "      <td>98.940543</td>\n",
       "      <td>90.000000</td>\n",
       "      <td>127.000000</td>\n",
       "      <td>217.000000</td>\n",
       "    </tr>\n",
       "    <tr>\n",
       "      <th>max</th>\n",
       "      <td>34.000000</td>\n",
       "      <td>199.998639</td>\n",
       "      <td>99.999907</td>\n",
       "      <td>44.355113</td>\n",
       "      <td>100.824857</td>\n",
       "      <td>99.000000</td>\n",
       "      <td>139.000000</td>\n",
       "      <td>249.000000</td>\n",
       "    </tr>\n",
       "  </tbody>\n",
       "</table>\n",
       "</div>"
      ],
      "text/plain": [
       "                 Age         Height         Weight            BMI  \\\n",
       "count  180000.000000  180000.000000  180000.000000  180000.000000   \n",
       "mean       26.021561     174.947103      69.971585      23.338869   \n",
       "std         4.890528      14.447560      17.322574       7.033554   \n",
       "min        18.000000     150.000041      40.000578      10.074837   \n",
       "25%        22.000000     162.476110      54.969838      17.858396   \n",
       "50%        26.000000     174.899914      69.979384      22.671401   \n",
       "75%        30.000000     187.464417      84.980097      27.997487   \n",
       "max        34.000000     199.998639      99.999907      44.355113   \n",
       "\n",
       "         Temperature     Heart Rate  Blood Pressure    Cholesterol  \n",
       "count  180000.000000  180000.000000   180000.000000  180000.000000  \n",
       "mean       98.600948      79.503767      114.558033     184.486361  \n",
       "std         0.500530      11.540755       14.403353      37.559678  \n",
       "min        96.397835      60.000000       90.000000     120.000000  \n",
       "25%        98.264750      70.000000      102.000000     152.000000  \n",
       "50%        98.599654      80.000000      115.000000     184.000000  \n",
       "75%        98.940543      90.000000      127.000000     217.000000  \n",
       "max       100.824857      99.000000      139.000000     249.000000  "
      ]
     },
     "execution_count": 323,
     "metadata": {},
     "output_type": "execute_result"
    }
   ],
   "source": [
    "dataset.describe()"
   ]
  },
  {
   "cell_type": "code",
   "execution_count": 324,
   "id": "58d9df00-ee9a-47b1-af1c-7bed729e8897",
   "metadata": {},
   "outputs": [],
   "source": [
    "dataset[numerical_columns] = imputer.fit_transform(dataset[numerical_columns])"
   ]
  },
  {
   "cell_type": "code",
   "execution_count": 325,
   "id": "97a699ef-6b2b-4e49-9d38-935319d3da79",
   "metadata": {},
   "outputs": [
    {
     "data": {
      "text/plain": [
       "Age                   0\n",
       "Gender            20000\n",
       "Height                0\n",
       "Weight                0\n",
       "Blood Type        20000\n",
       "BMI                   0\n",
       "Temperature           0\n",
       "Heart Rate            0\n",
       "Blood Pressure        0\n",
       "Cholesterol           0\n",
       "Diabetes          20000\n",
       "Smoking           20000\n",
       "dtype: int64"
      ]
     },
     "execution_count": 325,
     "metadata": {},
     "output_type": "execute_result"
    }
   ],
   "source": [
    "dataset.isnull().sum()"
   ]
  },
  {
   "cell_type": "code",
   "execution_count": 326,
   "id": "60eaa905-3425-4678-8bc3-c3a47de52075",
   "metadata": {},
   "outputs": [
    {
     "data": {
      "text/html": [
       "<div>\n",
       "<style scoped>\n",
       "    .dataframe tbody tr th:only-of-type {\n",
       "        vertical-align: middle;\n",
       "    }\n",
       "\n",
       "    .dataframe tbody tr th {\n",
       "        vertical-align: top;\n",
       "    }\n",
       "\n",
       "    .dataframe thead th {\n",
       "        text-align: right;\n",
       "    }\n",
       "</style>\n",
       "<table border=\"1\" class=\"dataframe\">\n",
       "  <thead>\n",
       "    <tr style=\"text-align: right;\">\n",
       "      <th></th>\n",
       "      <th>Age</th>\n",
       "      <th>Height</th>\n",
       "      <th>Weight</th>\n",
       "      <th>BMI</th>\n",
       "      <th>Temperature</th>\n",
       "      <th>Heart Rate</th>\n",
       "      <th>Blood Pressure</th>\n",
       "      <th>Cholesterol</th>\n",
       "    </tr>\n",
       "  </thead>\n",
       "  <tbody>\n",
       "    <tr>\n",
       "      <th>count</th>\n",
       "      <td>200000.000000</td>\n",
       "      <td>200000.000000</td>\n",
       "      <td>200000.000000</td>\n",
       "      <td>200000.000000</td>\n",
       "      <td>200000.000000</td>\n",
       "      <td>200000.000000</td>\n",
       "      <td>200000.00000</td>\n",
       "      <td>200000.000000</td>\n",
       "    </tr>\n",
       "    <tr>\n",
       "      <th>mean</th>\n",
       "      <td>26.019405</td>\n",
       "      <td>174.942384</td>\n",
       "      <td>69.972365</td>\n",
       "      <td>23.272123</td>\n",
       "      <td>98.600818</td>\n",
       "      <td>79.553390</td>\n",
       "      <td>114.60223</td>\n",
       "      <td>184.437725</td>\n",
       "    </tr>\n",
       "    <tr>\n",
       "      <th>std</th>\n",
       "      <td>4.639565</td>\n",
       "      <td>13.706162</td>\n",
       "      <td>16.433632</td>\n",
       "      <td>6.675617</td>\n",
       "      <td>0.474845</td>\n",
       "      <td>10.949531</td>\n",
       "      <td>13.66486</td>\n",
       "      <td>35.632528</td>\n",
       "    </tr>\n",
       "    <tr>\n",
       "      <th>min</th>\n",
       "      <td>18.000000</td>\n",
       "      <td>150.000041</td>\n",
       "      <td>40.000578</td>\n",
       "      <td>10.074837</td>\n",
       "      <td>96.397835</td>\n",
       "      <td>60.000000</td>\n",
       "      <td>90.00000</td>\n",
       "      <td>120.000000</td>\n",
       "    </tr>\n",
       "    <tr>\n",
       "      <th>25%</th>\n",
       "      <td>22.000000</td>\n",
       "      <td>163.859439</td>\n",
       "      <td>56.626643</td>\n",
       "      <td>18.382809</td>\n",
       "      <td>98.306875</td>\n",
       "      <td>71.000000</td>\n",
       "      <td>104.00000</td>\n",
       "      <td>156.000000</td>\n",
       "    </tr>\n",
       "    <tr>\n",
       "      <th>50%</th>\n",
       "      <td>26.000000</td>\n",
       "      <td>174.899914</td>\n",
       "      <td>69.979384</td>\n",
       "      <td>22.671401</td>\n",
       "      <td>98.599654</td>\n",
       "      <td>80.000000</td>\n",
       "      <td>115.00000</td>\n",
       "      <td>184.000000</td>\n",
       "    </tr>\n",
       "    <tr>\n",
       "      <th>75%</th>\n",
       "      <td>30.000000</td>\n",
       "      <td>186.079360</td>\n",
       "      <td>83.316641</td>\n",
       "      <td>27.255521</td>\n",
       "      <td>98.897102</td>\n",
       "      <td>88.000000</td>\n",
       "      <td>126.00000</td>\n",
       "      <td>213.000000</td>\n",
       "    </tr>\n",
       "    <tr>\n",
       "      <th>max</th>\n",
       "      <td>34.000000</td>\n",
       "      <td>199.998639</td>\n",
       "      <td>99.999907</td>\n",
       "      <td>44.355113</td>\n",
       "      <td>100.824857</td>\n",
       "      <td>99.000000</td>\n",
       "      <td>139.00000</td>\n",
       "      <td>249.000000</td>\n",
       "    </tr>\n",
       "  </tbody>\n",
       "</table>\n",
       "</div>"
      ],
      "text/plain": [
       "                 Age         Height         Weight            BMI  \\\n",
       "count  200000.000000  200000.000000  200000.000000  200000.000000   \n",
       "mean       26.019405     174.942384      69.972365      23.272123   \n",
       "std         4.639565      13.706162      16.433632       6.675617   \n",
       "min        18.000000     150.000041      40.000578      10.074837   \n",
       "25%        22.000000     163.859439      56.626643      18.382809   \n",
       "50%        26.000000     174.899914      69.979384      22.671401   \n",
       "75%        30.000000     186.079360      83.316641      27.255521   \n",
       "max        34.000000     199.998639      99.999907      44.355113   \n",
       "\n",
       "         Temperature     Heart Rate  Blood Pressure    Cholesterol  \n",
       "count  200000.000000  200000.000000    200000.00000  200000.000000  \n",
       "mean       98.600818      79.553390       114.60223     184.437725  \n",
       "std         0.474845      10.949531        13.66486      35.632528  \n",
       "min        96.397835      60.000000        90.00000     120.000000  \n",
       "25%        98.306875      71.000000       104.00000     156.000000  \n",
       "50%        98.599654      80.000000       115.00000     184.000000  \n",
       "75%        98.897102      88.000000       126.00000     213.000000  \n",
       "max       100.824857      99.000000       139.00000     249.000000  "
      ]
     },
     "execution_count": 326,
     "metadata": {},
     "output_type": "execute_result"
    }
   ],
   "source": [
    "dataset.describe()"
   ]
  },
  {
   "cell_type": "code",
   "execution_count": 327,
   "id": "d2e2ccce-043b-46a6-89fe-b2b4d9d29d3b",
   "metadata": {},
   "outputs": [],
   "source": [
    "dataset.dropna(subset = categorical_columns, inplace = True)"
   ]
  },
  {
   "cell_type": "code",
   "execution_count": 328,
   "id": "d1d83c82-d3df-4f61-8dc7-34dfc9a11fe1",
   "metadata": {},
   "outputs": [
    {
     "data": {
      "text/plain": [
       "Age               0\n",
       "Gender            0\n",
       "Height            0\n",
       "Weight            0\n",
       "Blood Type        0\n",
       "BMI               0\n",
       "Temperature       0\n",
       "Heart Rate        0\n",
       "Blood Pressure    0\n",
       "Cholesterol       0\n",
       "Diabetes          0\n",
       "Smoking           0\n",
       "dtype: int64"
      ]
     },
     "execution_count": 328,
     "metadata": {},
     "output_type": "execute_result"
    }
   ],
   "source": [
    "dataset.apply(pd.isnull).sum()"
   ]
  },
  {
   "cell_type": "code",
   "execution_count": 329,
   "id": "89dd2ecf-aaf7-4a94-9a6d-5a45df75d03e",
   "metadata": {},
   "outputs": [
    {
     "data": {
      "text/plain": [
       "(131263, 12)"
      ]
     },
     "execution_count": 329,
     "metadata": {},
     "output_type": "execute_result"
    }
   ],
   "source": [
    "dataset.shape"
   ]
  },
  {
   "cell_type": "code",
   "execution_count": 330,
   "id": "0acaf247-9b3c-49e7-ab84-e0c91d0c765b",
   "metadata": {},
   "outputs": [
    {
     "data": {
      "text/html": [
       "<div>\n",
       "<style scoped>\n",
       "    .dataframe tbody tr th:only-of-type {\n",
       "        vertical-align: middle;\n",
       "    }\n",
       "\n",
       "    .dataframe tbody tr th {\n",
       "        vertical-align: top;\n",
       "    }\n",
       "\n",
       "    .dataframe thead th {\n",
       "        text-align: right;\n",
       "    }\n",
       "</style>\n",
       "<table border=\"1\" class=\"dataframe\">\n",
       "  <thead>\n",
       "    <tr style=\"text-align: right;\">\n",
       "      <th></th>\n",
       "      <th>Age</th>\n",
       "      <th>Height</th>\n",
       "      <th>Weight</th>\n",
       "      <th>BMI</th>\n",
       "      <th>Temperature</th>\n",
       "      <th>Heart Rate</th>\n",
       "      <th>Blood Pressure</th>\n",
       "      <th>Cholesterol</th>\n",
       "    </tr>\n",
       "  </thead>\n",
       "  <tbody>\n",
       "    <tr>\n",
       "      <th>count</th>\n",
       "      <td>131263.000000</td>\n",
       "      <td>131263.000000</td>\n",
       "      <td>131263.000000</td>\n",
       "      <td>131263.000000</td>\n",
       "      <td>131263.000000</td>\n",
       "      <td>131263.000000</td>\n",
       "      <td>131263.000000</td>\n",
       "      <td>131263.000000</td>\n",
       "    </tr>\n",
       "    <tr>\n",
       "      <th>mean</th>\n",
       "      <td>26.032705</td>\n",
       "      <td>174.911534</td>\n",
       "      <td>69.985388</td>\n",
       "      <td>23.282855</td>\n",
       "      <td>98.601262</td>\n",
       "      <td>79.546841</td>\n",
       "      <td>114.623222</td>\n",
       "      <td>184.442973</td>\n",
       "    </tr>\n",
       "    <tr>\n",
       "      <th>std</th>\n",
       "      <td>4.642859</td>\n",
       "      <td>13.708091</td>\n",
       "      <td>16.441834</td>\n",
       "      <td>6.683392</td>\n",
       "      <td>0.474729</td>\n",
       "      <td>10.942657</td>\n",
       "      <td>13.682233</td>\n",
       "      <td>35.683262</td>\n",
       "    </tr>\n",
       "    <tr>\n",
       "      <th>min</th>\n",
       "      <td>18.000000</td>\n",
       "      <td>150.000041</td>\n",
       "      <td>40.000578</td>\n",
       "      <td>10.074837</td>\n",
       "      <td>96.397835</td>\n",
       "      <td>60.000000</td>\n",
       "      <td>90.000000</td>\n",
       "      <td>120.000000</td>\n",
       "    </tr>\n",
       "    <tr>\n",
       "      <th>25%</th>\n",
       "      <td>22.000000</td>\n",
       "      <td>163.831119</td>\n",
       "      <td>56.641581</td>\n",
       "      <td>18.395065</td>\n",
       "      <td>98.306793</td>\n",
       "      <td>71.000000</td>\n",
       "      <td>104.000000</td>\n",
       "      <td>155.000000</td>\n",
       "    </tr>\n",
       "    <tr>\n",
       "      <th>50%</th>\n",
       "      <td>26.000000</td>\n",
       "      <td>174.899914</td>\n",
       "      <td>69.979384</td>\n",
       "      <td>22.671401</td>\n",
       "      <td>98.599654</td>\n",
       "      <td>80.000000</td>\n",
       "      <td>115.000000</td>\n",
       "      <td>184.000000</td>\n",
       "    </tr>\n",
       "    <tr>\n",
       "      <th>75%</th>\n",
       "      <td>30.000000</td>\n",
       "      <td>186.086070</td>\n",
       "      <td>83.334252</td>\n",
       "      <td>27.274271</td>\n",
       "      <td>98.898043</td>\n",
       "      <td>88.000000</td>\n",
       "      <td>126.000000</td>\n",
       "      <td>213.000000</td>\n",
       "    </tr>\n",
       "    <tr>\n",
       "      <th>max</th>\n",
       "      <td>34.000000</td>\n",
       "      <td>199.998639</td>\n",
       "      <td>99.999907</td>\n",
       "      <td>44.355113</td>\n",
       "      <td>100.824857</td>\n",
       "      <td>99.000000</td>\n",
       "      <td>139.000000</td>\n",
       "      <td>249.000000</td>\n",
       "    </tr>\n",
       "  </tbody>\n",
       "</table>\n",
       "</div>"
      ],
      "text/plain": [
       "                 Age         Height         Weight            BMI  \\\n",
       "count  131263.000000  131263.000000  131263.000000  131263.000000   \n",
       "mean       26.032705     174.911534      69.985388      23.282855   \n",
       "std         4.642859      13.708091      16.441834       6.683392   \n",
       "min        18.000000     150.000041      40.000578      10.074837   \n",
       "25%        22.000000     163.831119      56.641581      18.395065   \n",
       "50%        26.000000     174.899914      69.979384      22.671401   \n",
       "75%        30.000000     186.086070      83.334252      27.274271   \n",
       "max        34.000000     199.998639      99.999907      44.355113   \n",
       "\n",
       "         Temperature     Heart Rate  Blood Pressure    Cholesterol  \n",
       "count  131263.000000  131263.000000   131263.000000  131263.000000  \n",
       "mean       98.601262      79.546841      114.623222     184.442973  \n",
       "std         0.474729      10.942657       13.682233      35.683262  \n",
       "min        96.397835      60.000000       90.000000     120.000000  \n",
       "25%        98.306793      71.000000      104.000000     155.000000  \n",
       "50%        98.599654      80.000000      115.000000     184.000000  \n",
       "75%        98.898043      88.000000      126.000000     213.000000  \n",
       "max       100.824857      99.000000      139.000000     249.000000  "
      ]
     },
     "execution_count": 330,
     "metadata": {},
     "output_type": "execute_result"
    }
   ],
   "source": [
    "dataset.describe()"
   ]
  },
  {
   "cell_type": "code",
   "execution_count": 331,
   "id": "9ef86c70-4be7-4c54-9804-1d40d4fd40ed",
   "metadata": {},
   "outputs": [
    {
     "data": {
      "text/html": [
       "<div>\n",
       "<style scoped>\n",
       "    .dataframe tbody tr th:only-of-type {\n",
       "        vertical-align: middle;\n",
       "    }\n",
       "\n",
       "    .dataframe tbody tr th {\n",
       "        vertical-align: top;\n",
       "    }\n",
       "\n",
       "    .dataframe thead th {\n",
       "        text-align: right;\n",
       "    }\n",
       "</style>\n",
       "<table border=\"1\" class=\"dataframe\">\n",
       "  <thead>\n",
       "    <tr style=\"text-align: right;\">\n",
       "      <th></th>\n",
       "      <th>Age</th>\n",
       "      <th>Gender</th>\n",
       "      <th>Height</th>\n",
       "      <th>Weight</th>\n",
       "      <th>Blood Type</th>\n",
       "      <th>BMI</th>\n",
       "      <th>Temperature</th>\n",
       "      <th>Heart Rate</th>\n",
       "      <th>Blood Pressure</th>\n",
       "      <th>Cholesterol</th>\n",
       "      <th>Diabetes</th>\n",
       "      <th>Smoking</th>\n",
       "    </tr>\n",
       "  </thead>\n",
       "  <tbody>\n",
       "    <tr>\n",
       "      <th>1</th>\n",
       "      <td>26.0</td>\n",
       "      <td>Male</td>\n",
       "      <td>152.069157</td>\n",
       "      <td>47.630941</td>\n",
       "      <td>B</td>\n",
       "      <td>22.671401</td>\n",
       "      <td>98.714977</td>\n",
       "      <td>93.0</td>\n",
       "      <td>104.0</td>\n",
       "      <td>163.0</td>\n",
       "      <td>No</td>\n",
       "      <td>No</td>\n",
       "    </tr>\n",
       "    <tr>\n",
       "      <th>2</th>\n",
       "      <td>32.0</td>\n",
       "      <td>Female</td>\n",
       "      <td>182.537664</td>\n",
       "      <td>55.741083</td>\n",
       "      <td>A</td>\n",
       "      <td>16.729017</td>\n",
       "      <td>98.260293</td>\n",
       "      <td>76.0</td>\n",
       "      <td>130.0</td>\n",
       "      <td>216.0</td>\n",
       "      <td>Yes</td>\n",
       "      <td>No</td>\n",
       "    </tr>\n",
       "    <tr>\n",
       "      <th>3</th>\n",
       "      <td>30.0</td>\n",
       "      <td>Male</td>\n",
       "      <td>182.112867</td>\n",
       "      <td>63.332207</td>\n",
       "      <td>B</td>\n",
       "      <td>19.096042</td>\n",
       "      <td>98.839605</td>\n",
       "      <td>99.0</td>\n",
       "      <td>112.0</td>\n",
       "      <td>141.0</td>\n",
       "      <td>No</td>\n",
       "      <td>Yes</td>\n",
       "    </tr>\n",
       "    <tr>\n",
       "      <th>4</th>\n",
       "      <td>23.0</td>\n",
       "      <td>Female</td>\n",
       "      <td>174.899914</td>\n",
       "      <td>46.234173</td>\n",
       "      <td>O</td>\n",
       "      <td>22.671401</td>\n",
       "      <td>98.480008</td>\n",
       "      <td>95.0</td>\n",
       "      <td>115.0</td>\n",
       "      <td>231.0</td>\n",
       "      <td>No</td>\n",
       "      <td>No</td>\n",
       "    </tr>\n",
       "    <tr>\n",
       "      <th>7</th>\n",
       "      <td>28.0</td>\n",
       "      <td>Male</td>\n",
       "      <td>186.489402</td>\n",
       "      <td>52.389752</td>\n",
       "      <td>AB</td>\n",
       "      <td>15.063921</td>\n",
       "      <td>98.227788</td>\n",
       "      <td>85.0</td>\n",
       "      <td>123.0</td>\n",
       "      <td>128.0</td>\n",
       "      <td>No</td>\n",
       "      <td>No</td>\n",
       "    </tr>\n",
       "  </tbody>\n",
       "</table>\n",
       "</div>"
      ],
      "text/plain": [
       "    Age  Gender      Height     Weight Blood Type        BMI  Temperature  \\\n",
       "1  26.0    Male  152.069157  47.630941          B  22.671401    98.714977   \n",
       "2  32.0  Female  182.537664  55.741083          A  16.729017    98.260293   \n",
       "3  30.0    Male  182.112867  63.332207          B  19.096042    98.839605   \n",
       "4  23.0  Female  174.899914  46.234173          O  22.671401    98.480008   \n",
       "7  28.0    Male  186.489402  52.389752         AB  15.063921    98.227788   \n",
       "\n",
       "   Heart Rate  Blood Pressure  Cholesterol Diabetes Smoking  \n",
       "1        93.0           104.0        163.0       No      No  \n",
       "2        76.0           130.0        216.0      Yes      No  \n",
       "3        99.0           112.0        141.0       No     Yes  \n",
       "4        95.0           115.0        231.0       No      No  \n",
       "7        85.0           123.0        128.0       No      No  "
      ]
     },
     "execution_count": 331,
     "metadata": {},
     "output_type": "execute_result"
    }
   ],
   "source": [
    "dataset.head()"
   ]
  },
  {
   "cell_type": "code",
   "execution_count": 332,
   "id": "4870724c-5549-4e25-b6c1-e439a9faf79e",
   "metadata": {},
   "outputs": [],
   "source": [
    "dataset.reset_index(drop = True, inplace = True)"
   ]
  },
  {
   "cell_type": "code",
   "execution_count": 333,
   "id": "cc2ba3fa-35e2-45dc-8ca6-17cfaf8b1083",
   "metadata": {},
   "outputs": [
    {
     "data": {
      "text/html": [
       "<div>\n",
       "<style scoped>\n",
       "    .dataframe tbody tr th:only-of-type {\n",
       "        vertical-align: middle;\n",
       "    }\n",
       "\n",
       "    .dataframe tbody tr th {\n",
       "        vertical-align: top;\n",
       "    }\n",
       "\n",
       "    .dataframe thead th {\n",
       "        text-align: right;\n",
       "    }\n",
       "</style>\n",
       "<table border=\"1\" class=\"dataframe\">\n",
       "  <thead>\n",
       "    <tr style=\"text-align: right;\">\n",
       "      <th></th>\n",
       "      <th>Age</th>\n",
       "      <th>Gender</th>\n",
       "      <th>Height</th>\n",
       "      <th>Weight</th>\n",
       "      <th>Blood Type</th>\n",
       "      <th>BMI</th>\n",
       "      <th>Temperature</th>\n",
       "      <th>Heart Rate</th>\n",
       "      <th>Blood Pressure</th>\n",
       "      <th>Cholesterol</th>\n",
       "      <th>Diabetes</th>\n",
       "      <th>Smoking</th>\n",
       "    </tr>\n",
       "  </thead>\n",
       "  <tbody>\n",
       "    <tr>\n",
       "      <th>0</th>\n",
       "      <td>26.0</td>\n",
       "      <td>Male</td>\n",
       "      <td>152.069157</td>\n",
       "      <td>47.630941</td>\n",
       "      <td>B</td>\n",
       "      <td>22.671401</td>\n",
       "      <td>98.714977</td>\n",
       "      <td>93.0</td>\n",
       "      <td>104.0</td>\n",
       "      <td>163.0</td>\n",
       "      <td>No</td>\n",
       "      <td>No</td>\n",
       "    </tr>\n",
       "    <tr>\n",
       "      <th>1</th>\n",
       "      <td>32.0</td>\n",
       "      <td>Female</td>\n",
       "      <td>182.537664</td>\n",
       "      <td>55.741083</td>\n",
       "      <td>A</td>\n",
       "      <td>16.729017</td>\n",
       "      <td>98.260293</td>\n",
       "      <td>76.0</td>\n",
       "      <td>130.0</td>\n",
       "      <td>216.0</td>\n",
       "      <td>Yes</td>\n",
       "      <td>No</td>\n",
       "    </tr>\n",
       "    <tr>\n",
       "      <th>2</th>\n",
       "      <td>30.0</td>\n",
       "      <td>Male</td>\n",
       "      <td>182.112867</td>\n",
       "      <td>63.332207</td>\n",
       "      <td>B</td>\n",
       "      <td>19.096042</td>\n",
       "      <td>98.839605</td>\n",
       "      <td>99.0</td>\n",
       "      <td>112.0</td>\n",
       "      <td>141.0</td>\n",
       "      <td>No</td>\n",
       "      <td>Yes</td>\n",
       "    </tr>\n",
       "    <tr>\n",
       "      <th>3</th>\n",
       "      <td>23.0</td>\n",
       "      <td>Female</td>\n",
       "      <td>174.899914</td>\n",
       "      <td>46.234173</td>\n",
       "      <td>O</td>\n",
       "      <td>22.671401</td>\n",
       "      <td>98.480008</td>\n",
       "      <td>95.0</td>\n",
       "      <td>115.0</td>\n",
       "      <td>231.0</td>\n",
       "      <td>No</td>\n",
       "      <td>No</td>\n",
       "    </tr>\n",
       "    <tr>\n",
       "      <th>4</th>\n",
       "      <td>28.0</td>\n",
       "      <td>Male</td>\n",
       "      <td>186.489402</td>\n",
       "      <td>52.389752</td>\n",
       "      <td>AB</td>\n",
       "      <td>15.063921</td>\n",
       "      <td>98.227788</td>\n",
       "      <td>85.0</td>\n",
       "      <td>123.0</td>\n",
       "      <td>128.0</td>\n",
       "      <td>No</td>\n",
       "      <td>No</td>\n",
       "    </tr>\n",
       "  </tbody>\n",
       "</table>\n",
       "</div>"
      ],
      "text/plain": [
       "    Age  Gender      Height     Weight Blood Type        BMI  Temperature  \\\n",
       "0  26.0    Male  152.069157  47.630941          B  22.671401    98.714977   \n",
       "1  32.0  Female  182.537664  55.741083          A  16.729017    98.260293   \n",
       "2  30.0    Male  182.112867  63.332207          B  19.096042    98.839605   \n",
       "3  23.0  Female  174.899914  46.234173          O  22.671401    98.480008   \n",
       "4  28.0    Male  186.489402  52.389752         AB  15.063921    98.227788   \n",
       "\n",
       "   Heart Rate  Blood Pressure  Cholesterol Diabetes Smoking  \n",
       "0        93.0           104.0        163.0       No      No  \n",
       "1        76.0           130.0        216.0      Yes      No  \n",
       "2        99.0           112.0        141.0       No     Yes  \n",
       "3        95.0           115.0        231.0       No      No  \n",
       "4        85.0           123.0        128.0       No      No  "
      ]
     },
     "execution_count": 333,
     "metadata": {},
     "output_type": "execute_result"
    }
   ],
   "source": [
    "dataset.head()"
   ]
  },
  {
   "cell_type": "code",
   "execution_count": 334,
   "id": "2c77c424-f702-4bfa-852c-e9d40c79b89d",
   "metadata": {},
   "outputs": [],
   "source": [
    "le = LabelEncoder()"
   ]
  },
  {
   "cell_type": "code",
   "execution_count": 335,
   "id": "bdf4b542-7583-458f-aff3-5686aa218667",
   "metadata": {},
   "outputs": [],
   "source": [
    "data = dataset.copy()"
   ]
  },
  {
   "cell_type": "code",
   "execution_count": 336,
   "id": "3da1229f-9cf1-4eb1-a46b-395235290428",
   "metadata": {},
   "outputs": [],
   "source": [
    "y = dataset['Diabetes']\n",
    "dataset.drop(columns = ['Diabetes'], axis = 'columns', inplace = True)"
   ]
  },
  {
   "cell_type": "code",
   "execution_count": 337,
   "id": "0930287f-3a7b-4b48-80de-cc56ec43989e",
   "metadata": {},
   "outputs": [],
   "source": [
    "y = le.fit_transform(y)"
   ]
  },
  {
   "cell_type": "code",
   "execution_count": 338,
   "id": "21c1f389-0649-4a02-9370-bc2679fe8b02",
   "metadata": {},
   "outputs": [],
   "source": [
    "cols1 = ['Gender', 'Smoking']\n",
    "for column in cols1:\n",
    "    dataset[column] = le.fit_transform(dataset[column])"
   ]
  },
  {
   "cell_type": "code",
   "execution_count": 339,
   "id": "c70f08af-4f54-4786-8594-bbbec3f3a63a",
   "metadata": {},
   "outputs": [
    {
     "data": {
      "text/html": [
       "<div>\n",
       "<style scoped>\n",
       "    .dataframe tbody tr th:only-of-type {\n",
       "        vertical-align: middle;\n",
       "    }\n",
       "\n",
       "    .dataframe tbody tr th {\n",
       "        vertical-align: top;\n",
       "    }\n",
       "\n",
       "    .dataframe thead th {\n",
       "        text-align: right;\n",
       "    }\n",
       "</style>\n",
       "<table border=\"1\" class=\"dataframe\">\n",
       "  <thead>\n",
       "    <tr style=\"text-align: right;\">\n",
       "      <th></th>\n",
       "      <th>Age</th>\n",
       "      <th>Gender</th>\n",
       "      <th>Height</th>\n",
       "      <th>Weight</th>\n",
       "      <th>Blood Type</th>\n",
       "      <th>BMI</th>\n",
       "      <th>Temperature</th>\n",
       "      <th>Heart Rate</th>\n",
       "      <th>Blood Pressure</th>\n",
       "      <th>Cholesterol</th>\n",
       "      <th>Smoking</th>\n",
       "    </tr>\n",
       "  </thead>\n",
       "  <tbody>\n",
       "    <tr>\n",
       "      <th>0</th>\n",
       "      <td>26.0</td>\n",
       "      <td>1</td>\n",
       "      <td>152.069157</td>\n",
       "      <td>47.630941</td>\n",
       "      <td>B</td>\n",
       "      <td>22.671401</td>\n",
       "      <td>98.714977</td>\n",
       "      <td>93.0</td>\n",
       "      <td>104.0</td>\n",
       "      <td>163.0</td>\n",
       "      <td>0</td>\n",
       "    </tr>\n",
       "    <tr>\n",
       "      <th>1</th>\n",
       "      <td>32.0</td>\n",
       "      <td>0</td>\n",
       "      <td>182.537664</td>\n",
       "      <td>55.741083</td>\n",
       "      <td>A</td>\n",
       "      <td>16.729017</td>\n",
       "      <td>98.260293</td>\n",
       "      <td>76.0</td>\n",
       "      <td>130.0</td>\n",
       "      <td>216.0</td>\n",
       "      <td>0</td>\n",
       "    </tr>\n",
       "    <tr>\n",
       "      <th>2</th>\n",
       "      <td>30.0</td>\n",
       "      <td>1</td>\n",
       "      <td>182.112867</td>\n",
       "      <td>63.332207</td>\n",
       "      <td>B</td>\n",
       "      <td>19.096042</td>\n",
       "      <td>98.839605</td>\n",
       "      <td>99.0</td>\n",
       "      <td>112.0</td>\n",
       "      <td>141.0</td>\n",
       "      <td>1</td>\n",
       "    </tr>\n",
       "    <tr>\n",
       "      <th>3</th>\n",
       "      <td>23.0</td>\n",
       "      <td>0</td>\n",
       "      <td>174.899914</td>\n",
       "      <td>46.234173</td>\n",
       "      <td>O</td>\n",
       "      <td>22.671401</td>\n",
       "      <td>98.480008</td>\n",
       "      <td>95.0</td>\n",
       "      <td>115.0</td>\n",
       "      <td>231.0</td>\n",
       "      <td>0</td>\n",
       "    </tr>\n",
       "    <tr>\n",
       "      <th>4</th>\n",
       "      <td>28.0</td>\n",
       "      <td>1</td>\n",
       "      <td>186.489402</td>\n",
       "      <td>52.389752</td>\n",
       "      <td>AB</td>\n",
       "      <td>15.063921</td>\n",
       "      <td>98.227788</td>\n",
       "      <td>85.0</td>\n",
       "      <td>123.0</td>\n",
       "      <td>128.0</td>\n",
       "      <td>0</td>\n",
       "    </tr>\n",
       "  </tbody>\n",
       "</table>\n",
       "</div>"
      ],
      "text/plain": [
       "    Age  Gender      Height     Weight Blood Type        BMI  Temperature  \\\n",
       "0  26.0       1  152.069157  47.630941          B  22.671401    98.714977   \n",
       "1  32.0       0  182.537664  55.741083          A  16.729017    98.260293   \n",
       "2  30.0       1  182.112867  63.332207          B  19.096042    98.839605   \n",
       "3  23.0       0  174.899914  46.234173          O  22.671401    98.480008   \n",
       "4  28.0       1  186.489402  52.389752         AB  15.063921    98.227788   \n",
       "\n",
       "   Heart Rate  Blood Pressure  Cholesterol  Smoking  \n",
       "0        93.0           104.0        163.0        0  \n",
       "1        76.0           130.0        216.0        0  \n",
       "2        99.0           112.0        141.0        1  \n",
       "3        95.0           115.0        231.0        0  \n",
       "4        85.0           123.0        128.0        0  "
      ]
     },
     "execution_count": 339,
     "metadata": {},
     "output_type": "execute_result"
    }
   ],
   "source": [
    "dataset.head()"
   ]
  },
  {
   "cell_type": "code",
   "execution_count": 340,
   "id": "18d9ca84-6a00-471e-b9b4-a76c0308a1a7",
   "metadata": {},
   "outputs": [],
   "source": [
    "dataset['Gender_le'] = dataset['Gender']\n",
    "dataset['Blood Type ohe'] = dataset['Blood Type']"
   ]
  },
  {
   "cell_type": "code",
   "execution_count": 341,
   "id": "e34c736c-957c-47f9-81c4-95ff16ed074b",
   "metadata": {},
   "outputs": [],
   "source": [
    "dataset.drop(columns = ['Gender', 'Blood Type'], axis = 1, inplace = True)"
   ]
  },
  {
   "cell_type": "code",
   "execution_count": 342,
   "id": "02c5b9f4-ac38-424b-b8f7-e39b3225f692",
   "metadata": {},
   "outputs": [
    {
     "data": {
      "text/html": [
       "<div>\n",
       "<style scoped>\n",
       "    .dataframe tbody tr th:only-of-type {\n",
       "        vertical-align: middle;\n",
       "    }\n",
       "\n",
       "    .dataframe tbody tr th {\n",
       "        vertical-align: top;\n",
       "    }\n",
       "\n",
       "    .dataframe thead th {\n",
       "        text-align: right;\n",
       "    }\n",
       "</style>\n",
       "<table border=\"1\" class=\"dataframe\">\n",
       "  <thead>\n",
       "    <tr style=\"text-align: right;\">\n",
       "      <th></th>\n",
       "      <th>Age</th>\n",
       "      <th>Height</th>\n",
       "      <th>Weight</th>\n",
       "      <th>BMI</th>\n",
       "      <th>Temperature</th>\n",
       "      <th>Heart Rate</th>\n",
       "      <th>Blood Pressure</th>\n",
       "      <th>Cholesterol</th>\n",
       "      <th>Smoking</th>\n",
       "      <th>Gender_le</th>\n",
       "      <th>Blood Type ohe</th>\n",
       "    </tr>\n",
       "  </thead>\n",
       "  <tbody>\n",
       "    <tr>\n",
       "      <th>0</th>\n",
       "      <td>26.0</td>\n",
       "      <td>152.069157</td>\n",
       "      <td>47.630941</td>\n",
       "      <td>22.671401</td>\n",
       "      <td>98.714977</td>\n",
       "      <td>93.0</td>\n",
       "      <td>104.0</td>\n",
       "      <td>163.0</td>\n",
       "      <td>0</td>\n",
       "      <td>1</td>\n",
       "      <td>B</td>\n",
       "    </tr>\n",
       "    <tr>\n",
       "      <th>1</th>\n",
       "      <td>32.0</td>\n",
       "      <td>182.537664</td>\n",
       "      <td>55.741083</td>\n",
       "      <td>16.729017</td>\n",
       "      <td>98.260293</td>\n",
       "      <td>76.0</td>\n",
       "      <td>130.0</td>\n",
       "      <td>216.0</td>\n",
       "      <td>0</td>\n",
       "      <td>0</td>\n",
       "      <td>A</td>\n",
       "    </tr>\n",
       "    <tr>\n",
       "      <th>2</th>\n",
       "      <td>30.0</td>\n",
       "      <td>182.112867</td>\n",
       "      <td>63.332207</td>\n",
       "      <td>19.096042</td>\n",
       "      <td>98.839605</td>\n",
       "      <td>99.0</td>\n",
       "      <td>112.0</td>\n",
       "      <td>141.0</td>\n",
       "      <td>1</td>\n",
       "      <td>1</td>\n",
       "      <td>B</td>\n",
       "    </tr>\n",
       "    <tr>\n",
       "      <th>3</th>\n",
       "      <td>23.0</td>\n",
       "      <td>174.899914</td>\n",
       "      <td>46.234173</td>\n",
       "      <td>22.671401</td>\n",
       "      <td>98.480008</td>\n",
       "      <td>95.0</td>\n",
       "      <td>115.0</td>\n",
       "      <td>231.0</td>\n",
       "      <td>0</td>\n",
       "      <td>0</td>\n",
       "      <td>O</td>\n",
       "    </tr>\n",
       "    <tr>\n",
       "      <th>4</th>\n",
       "      <td>28.0</td>\n",
       "      <td>186.489402</td>\n",
       "      <td>52.389752</td>\n",
       "      <td>15.063921</td>\n",
       "      <td>98.227788</td>\n",
       "      <td>85.0</td>\n",
       "      <td>123.0</td>\n",
       "      <td>128.0</td>\n",
       "      <td>0</td>\n",
       "      <td>1</td>\n",
       "      <td>AB</td>\n",
       "    </tr>\n",
       "  </tbody>\n",
       "</table>\n",
       "</div>"
      ],
      "text/plain": [
       "    Age      Height     Weight        BMI  Temperature  Heart Rate  \\\n",
       "0  26.0  152.069157  47.630941  22.671401    98.714977        93.0   \n",
       "1  32.0  182.537664  55.741083  16.729017    98.260293        76.0   \n",
       "2  30.0  182.112867  63.332207  19.096042    98.839605        99.0   \n",
       "3  23.0  174.899914  46.234173  22.671401    98.480008        95.0   \n",
       "4  28.0  186.489402  52.389752  15.063921    98.227788        85.0   \n",
       "\n",
       "   Blood Pressure  Cholesterol  Smoking  Gender_le Blood Type ohe  \n",
       "0           104.0        163.0        0          1              B  \n",
       "1           130.0        216.0        0          0              A  \n",
       "2           112.0        141.0        1          1              B  \n",
       "3           115.0        231.0        0          0              O  \n",
       "4           123.0        128.0        0          1             AB  "
      ]
     },
     "execution_count": 342,
     "metadata": {},
     "output_type": "execute_result"
    }
   ],
   "source": [
    "dataset.head()"
   ]
  },
  {
   "cell_type": "code",
   "execution_count": 343,
   "id": "17bf8651-5e20-4b53-b60c-a43dfbdc4061",
   "metadata": {},
   "outputs": [],
   "source": [
    "ct = ColumnTransformer(\n",
    "    transformers = [('encoder', OneHotEncoder(drop = 'first', dtype = 'int32'), [10])],\n",
    "    remainder = 'passthrough'\n",
    ")"
   ]
  },
  {
   "cell_type": "code",
   "execution_count": 344,
   "id": "7c598eec-853d-4ff6-8fba-e5d9c345b649",
   "metadata": {},
   "outputs": [],
   "source": [
    "dataset = np.array(ct.fit_transform(dataset))"
   ]
  },
  {
   "cell_type": "code",
   "execution_count": 345,
   "id": "b8a62d6a-3bcf-4ae9-bb32-c732bbc8bfc0",
   "metadata": {},
   "outputs": [
    {
     "data": {
      "text/plain": [
       "array([[  0.,   1.,   0., ..., 163.,   0.,   1.],\n",
       "       [  0.,   0.,   0., ..., 216.,   0.,   0.],\n",
       "       [  0.,   1.,   0., ..., 141.,   1.,   1.],\n",
       "       ...,\n",
       "       [  0.,   0.,   0., ..., 184.,   0.,   1.],\n",
       "       [  0.,   1.,   0., ..., 130.,   0.,   1.],\n",
       "       [  0.,   0.,   0., ..., 225.,   0.,   0.]])"
      ]
     },
     "execution_count": 345,
     "metadata": {},
     "output_type": "execute_result"
    }
   ],
   "source": [
    "dataset"
   ]
  },
  {
   "cell_type": "code",
   "execution_count": 346,
   "id": "fa60b861-a0ac-4820-85ed-25cf615524df",
   "metadata": {},
   "outputs": [
    {
     "data": {
      "text/plain": [
       "array([0, 1, 0, ..., 1, 0, 0])"
      ]
     },
     "execution_count": 346,
     "metadata": {},
     "output_type": "execute_result"
    }
   ],
   "source": [
    "y"
   ]
  },
  {
   "cell_type": "code",
   "execution_count": 347,
   "id": "1474ed6c-90f3-4fbf-b7c6-791ed6530250",
   "metadata": {},
   "outputs": [],
   "source": [
    "X_train, X_test, y_train, y_test = train_test_split(dataset, y, test_size = 0.2, random_state = 101, stratify = y, \n",
    "                                                    shuffle = True)"
   ]
  },
  {
   "cell_type": "code",
   "execution_count": 348,
   "id": "3207bcaa-4dad-4437-ad8c-f566ebd0958d",
   "metadata": {},
   "outputs": [
    {
     "name": "stdout",
     "output_type": "stream",
     "text": [
      "[[  0.   0.   0. ... 122.   0.   1.]\n",
      " [  1.   0.   0. ... 211.   0.   0.]\n",
      " [  0.   0.   0. ... 150.   0.   0.]\n",
      " ...\n",
      " [  1.   0.   0. ... 180.   0.   1.]\n",
      " [  0.   0.   1. ... 215.   1.   0.]\n",
      " [  0.   1.   0. ... 221.   0.   0.]]\n"
     ]
    }
   ],
   "source": [
    "print(X_train)"
   ]
  },
  {
   "cell_type": "code",
   "execution_count": 349,
   "id": "f7ac581d-612d-4b0c-8b4e-cfff94db1d36",
   "metadata": {},
   "outputs": [
    {
     "name": "stdout",
     "output_type": "stream",
     "text": [
      "[[  0.   0.   1. ... 188.   0.   0.]\n",
      " [  0.   1.   0. ... 180.   0.   1.]\n",
      " [  1.   0.   0. ... 180.   1.   0.]\n",
      " ...\n",
      " [  0.   0.   0. ... 178.   0.   1.]\n",
      " [  0.   1.   0. ... 153.   1.   1.]\n",
      " [  1.   0.   0. ... 232.   0.   1.]]\n"
     ]
    }
   ],
   "source": [
    "print(X_test)"
   ]
  },
  {
   "cell_type": "code",
   "execution_count": 350,
   "id": "3805bd06-7811-42eb-a4ef-3877e528cb8d",
   "metadata": {},
   "outputs": [
    {
     "name": "stdout",
     "output_type": "stream",
     "text": [
      "[1 0 0 ... 0 0 0]\n"
     ]
    }
   ],
   "source": [
    "print(y_train)"
   ]
  },
  {
   "cell_type": "code",
   "execution_count": 351,
   "id": "1e710c13-3143-4548-af02-bdab46d630d3",
   "metadata": {},
   "outputs": [
    {
     "name": "stdout",
     "output_type": "stream",
     "text": [
      "[0 0 0 ... 0 0 1]\n"
     ]
    }
   ],
   "source": [
    "print(y_test)"
   ]
  },
  {
   "cell_type": "code",
   "execution_count": 352,
   "id": "e8f02288-ddec-4882-86f3-6ff17d475bea",
   "metadata": {},
   "outputs": [],
   "source": [
    "scaler = StandardScaler()"
   ]
  },
  {
   "cell_type": "code",
   "execution_count": 353,
   "id": "1bbadc9d-3032-49e6-b0b5-ea78aa5c06a1",
   "metadata": {},
   "outputs": [
    {
     "data": {
      "text/plain": [
       "array([  0.        ,   0.        ,   0.        ,  21.        ,\n",
       "       193.0393267 ,  78.02513837,  22.67140145,  99.41422002,\n",
       "        81.        , 106.        , 122.        ,   0.        ,\n",
       "         1.        ])"
      ]
     },
     "execution_count": 353,
     "metadata": {},
     "output_type": "execute_result"
    }
   ],
   "source": [
    "X_train[0]"
   ]
  },
  {
   "cell_type": "code",
   "execution_count": 354,
   "id": "91070b54-9e83-40c5-be71-dd2649c96593",
   "metadata": {},
   "outputs": [],
   "source": [
    "X_train[:, 3: 11] = scaler.fit_transform(X_train[:, 3: 11])\n",
    "X_test[:, 3: 11] = scaler.transform(X_test[:, 3: 11])"
   ]
  },
  {
   "cell_type": "code",
   "execution_count": 355,
   "id": "ca319a1d-29b1-42f6-bc60-9e0ea361e67f",
   "metadata": {},
   "outputs": [
    {
     "data": {
      "text/plain": [
       "array([[ 0.        ,  0.        ,  0.        , ..., -1.75273775,\n",
       "         0.        ,  1.        ],\n",
       "       [ 1.        ,  0.        ,  0.        , ...,  0.74286307,\n",
       "         0.        ,  0.        ],\n",
       "       [ 0.        ,  0.        ,  0.        , ..., -0.9676049 ,\n",
       "         0.        ,  0.        ],\n",
       "       ...,\n",
       "       [ 1.        ,  0.        ,  0.        , ..., -0.12639115,\n",
       "         0.        ,  1.        ],\n",
       "       [ 0.        ,  0.        ,  1.        , ...,  0.85502491,\n",
       "         1.        ,  0.        ],\n",
       "       [ 0.        ,  1.        ,  0.        , ...,  1.02326766,\n",
       "         0.        ,  0.        ]])"
      ]
     },
     "execution_count": 355,
     "metadata": {},
     "output_type": "execute_result"
    }
   ],
   "source": [
    "X_train"
   ]
  },
  {
   "cell_type": "code",
   "execution_count": 356,
   "id": "fefbcde5-e55d-42f6-b029-79e2b8dd23b0",
   "metadata": {},
   "outputs": [
    {
     "data": {
      "text/plain": [
       "array([[ 0.        ,  0.        ,  1.        , ...,  0.09793252,\n",
       "         0.        ,  0.        ],\n",
       "       [ 0.        ,  1.        ,  0.        , ..., -0.12639115,\n",
       "         0.        ,  1.        ],\n",
       "       [ 1.        ,  0.        ,  0.        , ..., -0.12639115,\n",
       "         1.        ,  0.        ],\n",
       "       ...,\n",
       "       [ 0.        ,  0.        ,  0.        , ..., -0.18247206,\n",
       "         0.        ,  1.        ],\n",
       "       [ 0.        ,  1.        ,  0.        , ..., -0.88348353,\n",
       "         1.        ,  1.        ],\n",
       "       [ 1.        ,  0.        ,  0.        , ...,  1.3317127 ,\n",
       "         0.        ,  1.        ]])"
      ]
     },
     "execution_count": 356,
     "metadata": {},
     "output_type": "execute_result"
    }
   ],
   "source": [
    "X_test"
   ]
  }
 ],
 "metadata": {
  "kernelspec": {
   "display_name": "Python 3 (ipykernel)",
   "language": "python",
   "name": "python3"
  },
  "language_info": {
   "codemirror_mode": {
    "name": "ipython",
    "version": 3
   },
   "file_extension": ".py",
   "mimetype": "text/x-python",
   "name": "python",
   "nbconvert_exporter": "python",
   "pygments_lexer": "ipython3",
   "version": "3.9.13"
  }
 },
 "nbformat": 4,
 "nbformat_minor": 5
}
